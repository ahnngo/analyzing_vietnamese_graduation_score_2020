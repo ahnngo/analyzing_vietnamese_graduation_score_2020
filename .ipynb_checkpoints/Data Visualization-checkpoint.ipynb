{
 "cells": [
  {
   "cell_type": "markdown",
   "id": "32dadb28",
   "metadata": {},
   "source": [
    "### Data Visualization"
   ]
  },
  {
   "cell_type": "code",
   "execution_count": 1,
   "id": "3d24c29f",
   "metadata": {},
   "outputs": [
    {
     "data": {
      "text/html": [
       "        <script type=\"text/javascript\">\n",
       "        window.PlotlyConfig = {MathJaxConfig: 'local'};\n",
       "        if (window.MathJax) {MathJax.Hub.Config({SVG: {font: \"STIX-Web\"}});}\n",
       "        if (typeof require !== 'undefined') {\n",
       "        require.undef(\"plotly\");\n",
       "        requirejs.config({\n",
       "            paths: {\n",
       "                'plotly': ['https://cdn.plot.ly/plotly-2.9.0.min']\n",
       "            }\n",
       "        });\n",
       "        require(['plotly'], function(Plotly) {\n",
       "            window._Plotly = Plotly;\n",
       "        });\n",
       "        }\n",
       "        </script>\n",
       "        "
      ]
     },
     "metadata": {},
     "output_type": "display_data"
    },
    {
     "data": {
      "text/html": [
       "        <script type=\"text/javascript\">\n",
       "        window.PlotlyConfig = {MathJaxConfig: 'local'};\n",
       "        if (window.MathJax) {MathJax.Hub.Config({SVG: {font: \"STIX-Web\"}});}\n",
       "        if (typeof require !== 'undefined') {\n",
       "        require.undef(\"plotly\");\n",
       "        requirejs.config({\n",
       "            paths: {\n",
       "                'plotly': ['https://cdn.plot.ly/plotly-2.9.0.min']\n",
       "            }\n",
       "        });\n",
       "        require(['plotly'], function(Plotly) {\n",
       "            window._Plotly = Plotly;\n",
       "        });\n",
       "        }\n",
       "        </script>\n",
       "        "
      ]
     },
     "metadata": {},
     "output_type": "display_data"
    }
   ],
   "source": [
    "import numpy as np\n",
    "import pandas as pd\n",
    "import matplotlib.pyplot as plt\n",
    "from plotly.offline import download_plotlyjs,init_notebook_mode,plot,iplot\n",
    "import cufflinks as cf\n",
    "import seaborn as sns\n",
    "init_notebook_mode(connected=True)\n",
    "cf.go_offline()\n",
    "%matplotlib inline"
   ]
  },
  {
   "cell_type": "code",
   "execution_count": 2,
   "id": "bcbd5a13",
   "metadata": {},
   "outputs": [],
   "source": [
    "df = pd.read_csv('clean_data.csv')"
   ]
  },
  {
   "cell_type": "code",
   "execution_count": 3,
   "id": "5f2e9483",
   "metadata": {},
   "outputs": [],
   "source": [
    "df.index = df.index + 1"
   ]
  },
  {
   "cell_type": "code",
   "execution_count": 4,
   "id": "cd4199b2",
   "metadata": {},
   "outputs": [
    {
     "data": {
      "text/html": [
       "<div>\n",
       "<style scoped>\n",
       "    .dataframe tbody tr th:only-of-type {\n",
       "        vertical-align: middle;\n",
       "    }\n",
       "\n",
       "    .dataframe tbody tr th {\n",
       "        vertical-align: top;\n",
       "    }\n",
       "\n",
       "    .dataframe thead th {\n",
       "        text-align: right;\n",
       "    }\n",
       "</style>\n",
       "<table border=\"1\" class=\"dataframe\">\n",
       "  <thead>\n",
       "    <tr style=\"text-align: right;\">\n",
       "      <th></th>\n",
       "      <th>sbd</th>\n",
       "      <th>tên</th>\n",
       "      <th>dd</th>\n",
       "      <th>mm</th>\n",
       "      <th>yyyy</th>\n",
       "      <th>toán</th>\n",
       "      <th>ngữ văn</th>\n",
       "      <th>khxh</th>\n",
       "      <th>khtn</th>\n",
       "      <th>lịch sử</th>\n",
       "      <th>địa lí</th>\n",
       "      <th>gdcd</th>\n",
       "      <th>sinh học</th>\n",
       "      <th>vật lí</th>\n",
       "      <th>hóa học</th>\n",
       "      <th>tiếng anh</th>\n",
       "    </tr>\n",
       "  </thead>\n",
       "  <tbody>\n",
       "    <tr>\n",
       "      <th>1</th>\n",
       "      <td>2000001</td>\n",
       "      <td>Phạm Hoàng Hương Ái</td>\n",
       "      <td>4</td>\n",
       "      <td>11</td>\n",
       "      <td>2002</td>\n",
       "      <td>6.6</td>\n",
       "      <td>6.25</td>\n",
       "      <td>6.67</td>\n",
       "      <td>-1.00</td>\n",
       "      <td>5.75</td>\n",
       "      <td>7.00</td>\n",
       "      <td>7.25</td>\n",
       "      <td>-1.0</td>\n",
       "      <td>-1.00</td>\n",
       "      <td>-1.00</td>\n",
       "      <td>5.2</td>\n",
       "    </tr>\n",
       "    <tr>\n",
       "      <th>2</th>\n",
       "      <td>2000002</td>\n",
       "      <td>Đặng Huỳnh Vĩnh An</td>\n",
       "      <td>13</td>\n",
       "      <td>12</td>\n",
       "      <td>2002</td>\n",
       "      <td>8.2</td>\n",
       "      <td>7.75</td>\n",
       "      <td>7.58</td>\n",
       "      <td>-1.00</td>\n",
       "      <td>7.00</td>\n",
       "      <td>7.25</td>\n",
       "      <td>8.50</td>\n",
       "      <td>-1.0</td>\n",
       "      <td>-1.00</td>\n",
       "      <td>-1.00</td>\n",
       "      <td>7.0</td>\n",
       "    </tr>\n",
       "    <tr>\n",
       "      <th>3</th>\n",
       "      <td>2000003</td>\n",
       "      <td>Lâm Nguyễn Mộng Thùy An</td>\n",
       "      <td>6</td>\n",
       "      <td>4</td>\n",
       "      <td>2001</td>\n",
       "      <td>6.8</td>\n",
       "      <td>6.75</td>\n",
       "      <td>6.92</td>\n",
       "      <td>-1.00</td>\n",
       "      <td>4.75</td>\n",
       "      <td>7.75</td>\n",
       "      <td>8.25</td>\n",
       "      <td>-1.0</td>\n",
       "      <td>-1.00</td>\n",
       "      <td>-1.00</td>\n",
       "      <td>6.0</td>\n",
       "    </tr>\n",
       "    <tr>\n",
       "      <th>4</th>\n",
       "      <td>2000004</td>\n",
       "      <td>Lê Tiêu Hoàng An</td>\n",
       "      <td>18</td>\n",
       "      <td>11</td>\n",
       "      <td>2002</td>\n",
       "      <td>7.8</td>\n",
       "      <td>6.25</td>\n",
       "      <td>-1.00</td>\n",
       "      <td>6.25</td>\n",
       "      <td>-1.00</td>\n",
       "      <td>-1.00</td>\n",
       "      <td>-1.00</td>\n",
       "      <td>7.0</td>\n",
       "      <td>5.50</td>\n",
       "      <td>6.25</td>\n",
       "      <td>5.6</td>\n",
       "    </tr>\n",
       "    <tr>\n",
       "      <th>5</th>\n",
       "      <td>2000005</td>\n",
       "      <td>Lư Thuận An</td>\n",
       "      <td>14</td>\n",
       "      <td>1</td>\n",
       "      <td>2002</td>\n",
       "      <td>6.4</td>\n",
       "      <td>6.50</td>\n",
       "      <td>-1.00</td>\n",
       "      <td>6.17</td>\n",
       "      <td>-1.00</td>\n",
       "      <td>-1.00</td>\n",
       "      <td>-1.00</td>\n",
       "      <td>5.5</td>\n",
       "      <td>6.75</td>\n",
       "      <td>6.25</td>\n",
       "      <td>8.2</td>\n",
       "    </tr>\n",
       "  </tbody>\n",
       "</table>\n",
       "</div>"
      ],
      "text/plain": [
       "       sbd                      tên  dd  mm  yyyy  toán  ngữ văn  khxh  khtn  \\\n",
       "1  2000001      Phạm Hoàng Hương Ái   4  11  2002   6.6     6.25  6.67 -1.00   \n",
       "2  2000002       Đặng Huỳnh Vĩnh An  13  12  2002   8.2     7.75  7.58 -1.00   \n",
       "3  2000003  Lâm Nguyễn Mộng Thùy An   6   4  2001   6.8     6.75  6.92 -1.00   \n",
       "4  2000004         Lê Tiêu Hoàng An  18  11  2002   7.8     6.25 -1.00  6.25   \n",
       "5  2000005              Lư Thuận An  14   1  2002   6.4     6.50 -1.00  6.17   \n",
       "\n",
       "   lịch sử  địa lí  gdcd  sinh học  vật lí  hóa học  tiếng anh  \n",
       "1     5.75    7.00  7.25      -1.0   -1.00    -1.00        5.2  \n",
       "2     7.00    7.25  8.50      -1.0   -1.00    -1.00        7.0  \n",
       "3     4.75    7.75  8.25      -1.0   -1.00    -1.00        6.0  \n",
       "4    -1.00   -1.00 -1.00       7.0    5.50     6.25        5.6  \n",
       "5    -1.00   -1.00 -1.00       5.5    6.75     6.25        8.2  "
      ]
     },
     "execution_count": 4,
     "metadata": {},
     "output_type": "execute_result"
    }
   ],
   "source": [
    "df.head()"
   ]
  },
  {
   "cell_type": "code",
   "execution_count": 5,
   "id": "c064875e",
   "metadata": {},
   "outputs": [],
   "source": [
    "# rename columns from Vietnamese to English\n",
    "df = df.rename(columns={\"sbd\":\"id\", \"tên\":\"full name\", \"toán\":\"math\", \"ngữ văn\":\"literature\", \"khxh\":\"social science\", \n",
    "                        \"khtn\":\"natural science\", \"lịch sử\":\"history\", \"địa lí\":\"geography\", \"gdcd\":\"civics\", \n",
    "                        \"sinh học\":\"biology\", \"vật lí\":\"physics\", \"hóa học\":\"chemistry\", \"tiếng anh\":\"english\"})"
   ]
  },
  {
   "cell_type": "code",
   "execution_count": 6,
   "id": "e3967908",
   "metadata": {
    "scrolled": true
   },
   "outputs": [
    {
     "data": {
      "text/html": [
       "<div>\n",
       "<style scoped>\n",
       "    .dataframe tbody tr th:only-of-type {\n",
       "        vertical-align: middle;\n",
       "    }\n",
       "\n",
       "    .dataframe tbody tr th {\n",
       "        vertical-align: top;\n",
       "    }\n",
       "\n",
       "    .dataframe thead th {\n",
       "        text-align: right;\n",
       "    }\n",
       "</style>\n",
       "<table border=\"1\" class=\"dataframe\">\n",
       "  <thead>\n",
       "    <tr style=\"text-align: right;\">\n",
       "      <th></th>\n",
       "      <th>id</th>\n",
       "      <th>full name</th>\n",
       "      <th>dd</th>\n",
       "      <th>mm</th>\n",
       "      <th>yyyy</th>\n",
       "      <th>math</th>\n",
       "      <th>literature</th>\n",
       "      <th>social science</th>\n",
       "      <th>natural science</th>\n",
       "      <th>history</th>\n",
       "      <th>geography</th>\n",
       "      <th>civics</th>\n",
       "      <th>biology</th>\n",
       "      <th>physics</th>\n",
       "      <th>chemistry</th>\n",
       "      <th>english</th>\n",
       "    </tr>\n",
       "  </thead>\n",
       "  <tbody>\n",
       "    <tr>\n",
       "      <th>1</th>\n",
       "      <td>2000001</td>\n",
       "      <td>Phạm Hoàng Hương Ái</td>\n",
       "      <td>4</td>\n",
       "      <td>11</td>\n",
       "      <td>2002</td>\n",
       "      <td>6.6</td>\n",
       "      <td>6.25</td>\n",
       "      <td>6.67</td>\n",
       "      <td>-1.00</td>\n",
       "      <td>5.75</td>\n",
       "      <td>7.00</td>\n",
       "      <td>7.25</td>\n",
       "      <td>-1.0</td>\n",
       "      <td>-1.00</td>\n",
       "      <td>-1.00</td>\n",
       "      <td>5.2</td>\n",
       "    </tr>\n",
       "    <tr>\n",
       "      <th>2</th>\n",
       "      <td>2000002</td>\n",
       "      <td>Đặng Huỳnh Vĩnh An</td>\n",
       "      <td>13</td>\n",
       "      <td>12</td>\n",
       "      <td>2002</td>\n",
       "      <td>8.2</td>\n",
       "      <td>7.75</td>\n",
       "      <td>7.58</td>\n",
       "      <td>-1.00</td>\n",
       "      <td>7.00</td>\n",
       "      <td>7.25</td>\n",
       "      <td>8.50</td>\n",
       "      <td>-1.0</td>\n",
       "      <td>-1.00</td>\n",
       "      <td>-1.00</td>\n",
       "      <td>7.0</td>\n",
       "    </tr>\n",
       "    <tr>\n",
       "      <th>3</th>\n",
       "      <td>2000003</td>\n",
       "      <td>Lâm Nguyễn Mộng Thùy An</td>\n",
       "      <td>6</td>\n",
       "      <td>4</td>\n",
       "      <td>2001</td>\n",
       "      <td>6.8</td>\n",
       "      <td>6.75</td>\n",
       "      <td>6.92</td>\n",
       "      <td>-1.00</td>\n",
       "      <td>4.75</td>\n",
       "      <td>7.75</td>\n",
       "      <td>8.25</td>\n",
       "      <td>-1.0</td>\n",
       "      <td>-1.00</td>\n",
       "      <td>-1.00</td>\n",
       "      <td>6.0</td>\n",
       "    </tr>\n",
       "    <tr>\n",
       "      <th>4</th>\n",
       "      <td>2000004</td>\n",
       "      <td>Lê Tiêu Hoàng An</td>\n",
       "      <td>18</td>\n",
       "      <td>11</td>\n",
       "      <td>2002</td>\n",
       "      <td>7.8</td>\n",
       "      <td>6.25</td>\n",
       "      <td>-1.00</td>\n",
       "      <td>6.25</td>\n",
       "      <td>-1.00</td>\n",
       "      <td>-1.00</td>\n",
       "      <td>-1.00</td>\n",
       "      <td>7.0</td>\n",
       "      <td>5.50</td>\n",
       "      <td>6.25</td>\n",
       "      <td>5.6</td>\n",
       "    </tr>\n",
       "    <tr>\n",
       "      <th>5</th>\n",
       "      <td>2000005</td>\n",
       "      <td>Lư Thuận An</td>\n",
       "      <td>14</td>\n",
       "      <td>1</td>\n",
       "      <td>2002</td>\n",
       "      <td>6.4</td>\n",
       "      <td>6.50</td>\n",
       "      <td>-1.00</td>\n",
       "      <td>6.17</td>\n",
       "      <td>-1.00</td>\n",
       "      <td>-1.00</td>\n",
       "      <td>-1.00</td>\n",
       "      <td>5.5</td>\n",
       "      <td>6.75</td>\n",
       "      <td>6.25</td>\n",
       "      <td>8.2</td>\n",
       "    </tr>\n",
       "  </tbody>\n",
       "</table>\n",
       "</div>"
      ],
      "text/plain": [
       "        id                full name  dd  mm  yyyy  math  literature  \\\n",
       "1  2000001      Phạm Hoàng Hương Ái   4  11  2002   6.6        6.25   \n",
       "2  2000002       Đặng Huỳnh Vĩnh An  13  12  2002   8.2        7.75   \n",
       "3  2000003  Lâm Nguyễn Mộng Thùy An   6   4  2001   6.8        6.75   \n",
       "4  2000004         Lê Tiêu Hoàng An  18  11  2002   7.8        6.25   \n",
       "5  2000005              Lư Thuận An  14   1  2002   6.4        6.50   \n",
       "\n",
       "   social science  natural science  history  geography  civics  biology  \\\n",
       "1            6.67            -1.00     5.75       7.00    7.25     -1.0   \n",
       "2            7.58            -1.00     7.00       7.25    8.50     -1.0   \n",
       "3            6.92            -1.00     4.75       7.75    8.25     -1.0   \n",
       "4           -1.00             6.25    -1.00      -1.00   -1.00      7.0   \n",
       "5           -1.00             6.17    -1.00      -1.00   -1.00      5.5   \n",
       "\n",
       "   physics  chemistry  english  \n",
       "1    -1.00      -1.00      5.2  \n",
       "2    -1.00      -1.00      7.0  \n",
       "3    -1.00      -1.00      6.0  \n",
       "4     5.50       6.25      5.6  \n",
       "5     6.75       6.25      8.2  "
      ]
     },
     "execution_count": 6,
     "metadata": {},
     "output_type": "execute_result"
    }
   ],
   "source": [
    "df.head()"
   ]
  },
  {
   "cell_type": "markdown",
   "id": "f4e6bad6",
   "metadata": {},
   "source": [
    "## Find the number of students taking and not taking each exam"
   ]
  },
  {
   "cell_type": "code",
   "execution_count": 8,
   "id": "c134ce62",
   "metadata": {},
   "outputs": [
    {
     "data": {
      "text/plain": [
       "Index(['id', 'full name', 'dd', 'mm', 'yyyy', 'math', 'literature',\n",
       "       'social science', 'natural science', 'history', 'geography', 'civics',\n",
       "       'biology', 'physics', 'chemistry', 'english'],\n",
       "      dtype='object')"
      ]
     },
     "execution_count": 8,
     "metadata": {},
     "output_type": "execute_result"
    }
   ],
   "source": [
    "df.columns"
   ]
  },
  {
   "cell_type": "code",
   "execution_count": 9,
   "id": "86a8dbf7",
   "metadata": {},
   "outputs": [],
   "source": [
    "count = np.array([len(df[df[x] != -1.0]) for x in df.columns[5:]])"
   ]
  },
  {
   "cell_type": "code",
   "execution_count": 10,
   "id": "58ecbb8f",
   "metadata": {},
   "outputs": [
    {
     "data": {
      "text/plain": [
       "array([74179, 72642, 25221, 41948, 30313, 29597, 25091, 42595, 42853,\n",
       "       43088, 65735])"
      ]
     },
     "execution_count": 10,
     "metadata": {},
     "output_type": "execute_result"
    }
   ],
   "source": [
    "count"
   ]
  },
  {
   "cell_type": "code",
   "execution_count": 11,
   "id": "5488c241",
   "metadata": {},
   "outputs": [
    {
     "data": {
      "text/plain": [
       "Index(['math', 'literature', 'social science', 'natural science', 'history',\n",
       "       'geography', 'civics', 'biology', 'physics', 'chemistry', 'english'],\n",
       "      dtype='object')"
      ]
     },
     "execution_count": 11,
     "metadata": {},
     "output_type": "execute_result"
    }
   ],
   "source": [
    "df.columns[5:]"
   ]
  },
  {
   "cell_type": "code",
   "execution_count": 12,
   "id": "d2ecc2f8",
   "metadata": {},
   "outputs": [],
   "source": [
    "presence = pd.DataFrame(count,index=df.columns[5:],columns=['Number of students'])"
   ]
  },
  {
   "cell_type": "code",
   "execution_count": 13,
   "id": "4e58a435",
   "metadata": {},
   "outputs": [
    {
     "data": {
      "text/html": [
       "<div>\n",
       "<style scoped>\n",
       "    .dataframe tbody tr th:only-of-type {\n",
       "        vertical-align: middle;\n",
       "    }\n",
       "\n",
       "    .dataframe tbody tr th {\n",
       "        vertical-align: top;\n",
       "    }\n",
       "\n",
       "    .dataframe thead th {\n",
       "        text-align: right;\n",
       "    }\n",
       "</style>\n",
       "<table border=\"1\" class=\"dataframe\">\n",
       "  <thead>\n",
       "    <tr style=\"text-align: right;\">\n",
       "      <th></th>\n",
       "      <th>Number of students</th>\n",
       "    </tr>\n",
       "  </thead>\n",
       "  <tbody>\n",
       "    <tr>\n",
       "      <th>math</th>\n",
       "      <td>74179</td>\n",
       "    </tr>\n",
       "    <tr>\n",
       "      <th>literature</th>\n",
       "      <td>72642</td>\n",
       "    </tr>\n",
       "    <tr>\n",
       "      <th>social science</th>\n",
       "      <td>25221</td>\n",
       "    </tr>\n",
       "    <tr>\n",
       "      <th>natural science</th>\n",
       "      <td>41948</td>\n",
       "    </tr>\n",
       "    <tr>\n",
       "      <th>history</th>\n",
       "      <td>30313</td>\n",
       "    </tr>\n",
       "    <tr>\n",
       "      <th>geography</th>\n",
       "      <td>29597</td>\n",
       "    </tr>\n",
       "    <tr>\n",
       "      <th>civics</th>\n",
       "      <td>25091</td>\n",
       "    </tr>\n",
       "    <tr>\n",
       "      <th>biology</th>\n",
       "      <td>42595</td>\n",
       "    </tr>\n",
       "    <tr>\n",
       "      <th>physics</th>\n",
       "      <td>42853</td>\n",
       "    </tr>\n",
       "    <tr>\n",
       "      <th>chemistry</th>\n",
       "      <td>43088</td>\n",
       "    </tr>\n",
       "    <tr>\n",
       "      <th>english</th>\n",
       "      <td>65735</td>\n",
       "    </tr>\n",
       "  </tbody>\n",
       "</table>\n",
       "</div>"
      ],
      "text/plain": [
       "                 Number of students\n",
       "math                          74179\n",
       "literature                    72642\n",
       "social science                25221\n",
       "natural science               41948\n",
       "history                       30313\n",
       "geography                     29597\n",
       "civics                        25091\n",
       "biology                       42595\n",
       "physics                       42853\n",
       "chemistry                     43088\n",
       "english                       65735"
      ]
     },
     "execution_count": 13,
     "metadata": {},
     "output_type": "execute_result"
    }
   ],
   "source": [
    "presence"
   ]
  },
  {
   "cell_type": "code",
   "execution_count": 55,
   "id": "15442c8d",
   "metadata": {},
   "outputs": [
    {
     "data": {
      "text/plain": [
       "<AxesSubplot:title={'center':'The numbers of student participating in each exam'}, xlabel='Subject', ylabel='Number of students'>"
      ]
     },
     "execution_count": 55,
     "metadata": {},
     "output_type": "execute_result"
    },
    {
     "data": {
      "image/png": "[encoded data removed]",
      "text/plain": [
       "<Figure size 1008x432 with 1 Axes>"
      ]
     },
     "metadata": {
      "needs_background": "light"
     },
     "output_type": "display_data"
    }
   ],
   "source": [
    "presence.plot(kind='bar',figsize=(14,6),use_index=True,\n",
    "              xlabel='Subject',ylabel='Number of students',title='The numbers of student participating in each exam',\n",
    "              ylim=(0,80000))"
   ]
  },
  {
   "cell_type": "code",
   "execution_count": 15,
   "id": "49b30029",
   "metadata": {
    "scrolled": true
   },
   "outputs": [],
   "source": [
    "absence = pd.DataFrame(len(df) - count,index=df.columns[5:],columns=['Number of students'])"
   ]
  },
  {
   "cell_type": "code",
   "execution_count": 16,
   "id": "a380c864",
   "metadata": {},
   "outputs": [
    {
     "data": {
      "text/html": [
       "<div>\n",
       "<style scoped>\n",
       "    .dataframe tbody tr th:only-of-type {\n",
       "        vertical-align: middle;\n",
       "    }\n",
       "\n",
       "    .dataframe tbody tr th {\n",
       "        vertical-align: top;\n",
       "    }\n",
       "\n",
       "    .dataframe thead th {\n",
       "        text-align: right;\n",
       "    }\n",
       "</style>\n",
       "<table border=\"1\" class=\"dataframe\">\n",
       "  <thead>\n",
       "    <tr style=\"text-align: right;\">\n",
       "      <th></th>\n",
       "      <th>Number of students</th>\n",
       "    </tr>\n",
       "  </thead>\n",
       "  <tbody>\n",
       "    <tr>\n",
       "      <th>math</th>\n",
       "      <td>265</td>\n",
       "    </tr>\n",
       "    <tr>\n",
       "      <th>literature</th>\n",
       "      <td>1802</td>\n",
       "    </tr>\n",
       "    <tr>\n",
       "      <th>social science</th>\n",
       "      <td>49223</td>\n",
       "    </tr>\n",
       "    <tr>\n",
       "      <th>natural science</th>\n",
       "      <td>32496</td>\n",
       "    </tr>\n",
       "    <tr>\n",
       "      <th>history</th>\n",
       "      <td>44131</td>\n",
       "    </tr>\n",
       "    <tr>\n",
       "      <th>geography</th>\n",
       "      <td>44847</td>\n",
       "    </tr>\n",
       "    <tr>\n",
       "      <th>civics</th>\n",
       "      <td>49353</td>\n",
       "    </tr>\n",
       "    <tr>\n",
       "      <th>biology</th>\n",
       "      <td>31849</td>\n",
       "    </tr>\n",
       "    <tr>\n",
       "      <th>physics</th>\n",
       "      <td>31591</td>\n",
       "    </tr>\n",
       "    <tr>\n",
       "      <th>chemistry</th>\n",
       "      <td>31356</td>\n",
       "    </tr>\n",
       "    <tr>\n",
       "      <th>english</th>\n",
       "      <td>8709</td>\n",
       "    </tr>\n",
       "  </tbody>\n",
       "</table>\n",
       "</div>"
      ],
      "text/plain": [
       "                 Number of students\n",
       "math                            265\n",
       "literature                     1802\n",
       "social science                49223\n",
       "natural science               32496\n",
       "history                       44131\n",
       "geography                     44847\n",
       "civics                        49353\n",
       "biology                       31849\n",
       "physics                       31591\n",
       "chemistry                     31356\n",
       "english                        8709"
      ]
     },
     "execution_count": 16,
     "metadata": {},
     "output_type": "execute_result"
    }
   ],
   "source": [
    "absence"
   ]
  },
  {
   "cell_type": "code",
   "execution_count": 54,
   "id": "c32f8d08",
   "metadata": {},
   "outputs": [
    {
     "data": {
      "text/plain": [
       "<AxesSubplot:title={'center':'The numbers of student who did not take for sign up for each exam'}, xlabel='Subject', ylabel='Number of students'>"
      ]
     },
     "execution_count": 54,
     "metadata": {},
     "output_type": "execute_result"
    },
    {
     "data": {
      "image/png": "[encoded data removed]",
      "text/plain": [
       "<Figure size 1008x432 with 1 Axes>"
      ]
     },
     "metadata": {
      "needs_background": "light"
     },
     "output_type": "display_data"
    }
   ],
   "source": [
    "absence.plot(kind='bar',figsize=(14,6),use_index=True,\n",
    "              xlabel='Subject',ylabel='Number of students',\n",
    "             title='The numbers of student who did not take for sign up for each exam',\n",
    "              ylim=(0,80000))"
   ]
  },
  {
   "cell_type": "code",
   "execution_count": 18,
   "id": "cb745a3a",
   "metadata": {},
   "outputs": [
    {
     "data": {
      "text/plain": [
       "id                             2000001\n",
       "full name          Phạm Hoàng Hương Ái\n",
       "dd                                   4\n",
       "mm                                  11\n",
       "yyyy                              2002\n",
       "math                               6.6\n",
       "literature                        6.25\n",
       "social science                    6.67\n",
       "natural science                   -1.0\n",
       "history                           5.75\n",
       "geography                          7.0\n",
       "civics                            7.25\n",
       "biology                           -1.0\n",
       "physics                           -1.0\n",
       "chemistry                         -1.0\n",
       "english                            5.2\n",
       "Name: 1, dtype: object"
      ]
     },
     "execution_count": 18,
     "metadata": {},
     "output_type": "execute_result"
    }
   ],
   "source": [
    "df.iloc[0]"
   ]
  },
  {
   "cell_type": "code",
   "execution_count": 19,
   "id": "19814674",
   "metadata": {},
   "outputs": [],
   "source": [
    "combination = np.array([0 for x in range(12)])"
   ]
  },
  {
   "cell_type": "code",
   "execution_count": 20,
   "id": "ec202569",
   "metadata": {},
   "outputs": [
    {
     "data": {
      "text/plain": [
       "array([0, 0, 0, 0, 0, 0, 0, 0, 0, 0, 0, 0])"
      ]
     },
     "execution_count": 20,
     "metadata": {},
     "output_type": "execute_result"
    }
   ],
   "source": [
    "combination"
   ]
  },
  {
   "cell_type": "code",
   "execution_count": 21,
   "id": "219562b0",
   "metadata": {},
   "outputs": [],
   "source": [
    "for j in range(len(df)):\n",
    "    count = 0\n",
    "    for i in df.iloc[j]:\n",
    "        if i == -1:\n",
    "            count += 1\n",
    "    combination[11 - count] += 1"
   ]
  },
  {
   "cell_type": "code",
   "execution_count": 22,
   "id": "6ebbb760",
   "metadata": {},
   "outputs": [
    {
     "data": {
      "text/plain": [
       "array([    0,    80,   122,  2598,  4334,   318,  2730, 64261,     0,\n",
       "           0,     0,     1])"
      ]
     },
     "execution_count": 22,
     "metadata": {},
     "output_type": "execute_result"
    }
   ],
   "source": [
    "combination"
   ]
  },
  {
   "cell_type": "code",
   "execution_count": 23,
   "id": "077b4305",
   "metadata": {},
   "outputs": [
    {
     "data": {
      "text/plain": [
       "74444"
      ]
     },
     "execution_count": 23,
     "metadata": {},
     "output_type": "execute_result"
    }
   ],
   "source": [
    "sum(combination)"
   ]
  },
  {
   "cell_type": "code",
   "execution_count": 24,
   "id": "d248975e",
   "metadata": {},
   "outputs": [],
   "source": [
    "subject_combination = pd.DataFrame(combination,columns=['Number of students'])"
   ]
  },
  {
   "cell_type": "code",
   "execution_count": 25,
   "id": "82f83aec",
   "metadata": {},
   "outputs": [
    {
     "data": {
      "text/html": [
       "<div>\n",
       "<style scoped>\n",
       "    .dataframe tbody tr th:only-of-type {\n",
       "        vertical-align: middle;\n",
       "    }\n",
       "\n",
       "    .dataframe tbody tr th {\n",
       "        vertical-align: top;\n",
       "    }\n",
       "\n",
       "    .dataframe thead th {\n",
       "        text-align: right;\n",
       "    }\n",
       "</style>\n",
       "<table border=\"1\" class=\"dataframe\">\n",
       "  <thead>\n",
       "    <tr style=\"text-align: right;\">\n",
       "      <th></th>\n",
       "      <th>Number of students</th>\n",
       "    </tr>\n",
       "  </thead>\n",
       "  <tbody>\n",
       "    <tr>\n",
       "      <th>0</th>\n",
       "      <td>0</td>\n",
       "    </tr>\n",
       "    <tr>\n",
       "      <th>1</th>\n",
       "      <td>80</td>\n",
       "    </tr>\n",
       "    <tr>\n",
       "      <th>2</th>\n",
       "      <td>122</td>\n",
       "    </tr>\n",
       "    <tr>\n",
       "      <th>3</th>\n",
       "      <td>2598</td>\n",
       "    </tr>\n",
       "    <tr>\n",
       "      <th>4</th>\n",
       "      <td>4334</td>\n",
       "    </tr>\n",
       "    <tr>\n",
       "      <th>5</th>\n",
       "      <td>318</td>\n",
       "    </tr>\n",
       "    <tr>\n",
       "      <th>6</th>\n",
       "      <td>2730</td>\n",
       "    </tr>\n",
       "    <tr>\n",
       "      <th>7</th>\n",
       "      <td>64261</td>\n",
       "    </tr>\n",
       "    <tr>\n",
       "      <th>8</th>\n",
       "      <td>0</td>\n",
       "    </tr>\n",
       "    <tr>\n",
       "      <th>9</th>\n",
       "      <td>0</td>\n",
       "    </tr>\n",
       "    <tr>\n",
       "      <th>10</th>\n",
       "      <td>0</td>\n",
       "    </tr>\n",
       "    <tr>\n",
       "      <th>11</th>\n",
       "      <td>1</td>\n",
       "    </tr>\n",
       "  </tbody>\n",
       "</table>\n",
       "</div>"
      ],
      "text/plain": [
       "    Number of students\n",
       "0                    0\n",
       "1                   80\n",
       "2                  122\n",
       "3                 2598\n",
       "4                 4334\n",
       "5                  318\n",
       "6                 2730\n",
       "7                64261\n",
       "8                    0\n",
       "9                    0\n",
       "10                   0\n",
       "11                   1"
      ]
     },
     "execution_count": 25,
     "metadata": {},
     "output_type": "execute_result"
    }
   ],
   "source": [
    "subject_combination"
   ]
  },
  {
   "cell_type": "code",
   "execution_count": 26,
   "id": "288e835b",
   "metadata": {},
   "outputs": [],
   "source": [
    "labels = ['0 subject', '1 subject'] + [str(x) + ' subjects' for x in range(2,12)]"
   ]
  },
  {
   "cell_type": "code",
   "execution_count": 27,
   "id": "4f66ce3a",
   "metadata": {},
   "outputs": [
    {
     "data": {
      "text/plain": [
       "['0 subject',\n",
       " '1 subject',\n",
       " '2 subjects',\n",
       " '3 subjects',\n",
       " '4 subjects',\n",
       " '5 subjects',\n",
       " '6 subjects',\n",
       " '7 subjects',\n",
       " '8 subjects',\n",
       " '9 subjects',\n",
       " '10 subjects',\n",
       " '11 subjects']"
      ]
     },
     "execution_count": 27,
     "metadata": {},
     "output_type": "execute_result"
    }
   ],
   "source": [
    "labels"
   ]
  },
  {
   "cell_type": "code",
   "execution_count": 28,
   "id": "72b383b1",
   "metadata": {},
   "outputs": [
    {
     "data": {
      "text/plain": [
       "array([    0,    80,   122,  2598,  4334,   318,  2730, 64261,     0,\n",
       "           0,     0,     1])"
      ]
     },
     "execution_count": 28,
     "metadata": {},
     "output_type": "execute_result"
    }
   ],
   "source": [
    "combination"
   ]
  },
  {
   "cell_type": "code",
   "execution_count": 29,
   "id": "c6319306",
   "metadata": {},
   "outputs": [
    {
     "data": {
      "text/plain": [
       "[2598, 4334, 2730, 64261, 521]"
      ]
     },
     "execution_count": 29,
     "metadata": {},
     "output_type": "execute_result"
    }
   ],
   "source": [
    "combination_for_plotting = []\n",
    "count = 0\n",
    "for i in range(len(combination)):\n",
    "    if combination[i] > 2000:\n",
    "        combination_for_plotting.append(combination[i])\n",
    "    elif i in [0,1]:\n",
    "        labels.remove(\"{} subject\".format(i))\n",
    "        count += combination[i]\n",
    "    else:\n",
    "        labels.remove(\"{} subjects\".format(i))\n",
    "        count += combination[i]\n",
    "        \n",
    "combination_for_plotting.append(count)\n",
    "labels.append('Others')\n",
    "combination_for_plotting"
   ]
  },
  {
   "cell_type": "code",
   "execution_count": 30,
   "id": "84d87e24",
   "metadata": {
    "scrolled": true
   },
   "outputs": [
    {
     "data": {
      "text/plain": [
       "['3 subjects', '4 subjects', '6 subjects', '7 subjects', 'Others']"
      ]
     },
     "execution_count": 30,
     "metadata": {},
     "output_type": "execute_result"
    }
   ],
   "source": [
    "labels"
   ]
  },
  {
   "cell_type": "code",
   "execution_count": 31,
   "id": "5c5c1743",
   "metadata": {},
   "outputs": [],
   "source": [
    "combination_for_plotting_df = pd.DataFrame(data=combination_for_plotting,index=labels,columns=['Number of students'])"
   ]
  },
  {
   "cell_type": "code",
   "execution_count": 32,
   "id": "135b3187",
   "metadata": {},
   "outputs": [
    {
     "data": {
      "text/html": [
       "<div>\n",
       "<style scoped>\n",
       "    .dataframe tbody tr th:only-of-type {\n",
       "        vertical-align: middle;\n",
       "    }\n",
       "\n",
       "    .dataframe tbody tr th {\n",
       "        vertical-align: top;\n",
       "    }\n",
       "\n",
       "    .dataframe thead th {\n",
       "        text-align: right;\n",
       "    }\n",
       "</style>\n",
       "<table border=\"1\" class=\"dataframe\">\n",
       "  <thead>\n",
       "    <tr style=\"text-align: right;\">\n",
       "      <th></th>\n",
       "      <th>Number of students</th>\n",
       "    </tr>\n",
       "  </thead>\n",
       "  <tbody>\n",
       "    <tr>\n",
       "      <th>3 subjects</th>\n",
       "      <td>2598</td>\n",
       "    </tr>\n",
       "    <tr>\n",
       "      <th>4 subjects</th>\n",
       "      <td>4334</td>\n",
       "    </tr>\n",
       "    <tr>\n",
       "      <th>6 subjects</th>\n",
       "      <td>2730</td>\n",
       "    </tr>\n",
       "    <tr>\n",
       "      <th>7 subjects</th>\n",
       "      <td>64261</td>\n",
       "    </tr>\n",
       "    <tr>\n",
       "      <th>Others</th>\n",
       "      <td>521</td>\n",
       "    </tr>\n",
       "  </tbody>\n",
       "</table>\n",
       "</div>"
      ],
      "text/plain": [
       "            Number of students\n",
       "3 subjects                2598\n",
       "4 subjects                4334\n",
       "6 subjects                2730\n",
       "7 subjects               64261\n",
       "Others                     521"
      ]
     },
     "execution_count": 32,
     "metadata": {},
     "output_type": "execute_result"
    }
   ],
   "source": [
    "combination_for_plotting_df"
   ]
  },
  {
   "cell_type": "code",
   "execution_count": 70,
   "id": "b4c10cf1",
   "metadata": {
    "scrolled": false
   },
   "outputs": [
    {
     "data": {
      "text/plain": [
       "Text(0.5, 1.35, 'Percentage of  by students')"
      ]
     },
     "execution_count": 70,
     "metadata": {},
     "output_type": "execute_result"
    },
    {
     "data": {
      "image/png": "[encoded data removed]",
      "text/plain": [
       "<Figure size 432x288 with 1 Axes>"
      ]
     },
     "metadata": {},
     "output_type": "display_data"
    }
   ],
   "source": [
    "#define Seaborn color palette to use\n",
    "colors = sns.color_palette('pastel')[0:5]\n",
    "\n",
    "#create pie chart\n",
    "plt.pie(combination_for_plotting, colors = colors, autopct='%.2f%%',radius=2)\n",
    "plt.legend(title = \"Combination\", loc='center left', labels=labels, bbox_to_anchor=(1.4, 0.5))\n",
    "\n",
    "plt.title('Percentage of  by students',loc='center',y=1.35,fontsize=15)"
   ]
  },
  {
   "cell_type": "code",
   "execution_count": 34,
   "id": "ce4760b6",
   "metadata": {},
   "outputs": [
    {
     "data": {
      "text/html": [
       "<div>\n",
       "<style scoped>\n",
       "    .dataframe tbody tr th:only-of-type {\n",
       "        vertical-align: middle;\n",
       "    }\n",
       "\n",
       "    .dataframe tbody tr th {\n",
       "        vertical-align: top;\n",
       "    }\n",
       "\n",
       "    .dataframe thead th {\n",
       "        text-align: right;\n",
       "    }\n",
       "</style>\n",
       "<table border=\"1\" class=\"dataframe\">\n",
       "  <thead>\n",
       "    <tr style=\"text-align: right;\">\n",
       "      <th></th>\n",
       "      <th>id</th>\n",
       "      <th>full name</th>\n",
       "      <th>dd</th>\n",
       "      <th>mm</th>\n",
       "      <th>yyyy</th>\n",
       "      <th>math</th>\n",
       "      <th>literature</th>\n",
       "      <th>social science</th>\n",
       "      <th>natural science</th>\n",
       "      <th>history</th>\n",
       "      <th>geography</th>\n",
       "      <th>civics</th>\n",
       "      <th>biology</th>\n",
       "      <th>physics</th>\n",
       "      <th>chemistry</th>\n",
       "      <th>english</th>\n",
       "    </tr>\n",
       "  </thead>\n",
       "  <tbody>\n",
       "    <tr>\n",
       "      <th>1</th>\n",
       "      <td>2000001</td>\n",
       "      <td>Phạm Hoàng Hương Ái</td>\n",
       "      <td>4</td>\n",
       "      <td>11</td>\n",
       "      <td>2002</td>\n",
       "      <td>6.6</td>\n",
       "      <td>6.25</td>\n",
       "      <td>6.67</td>\n",
       "      <td>-1.00</td>\n",
       "      <td>5.75</td>\n",
       "      <td>7.00</td>\n",
       "      <td>7.25</td>\n",
       "      <td>-1.0</td>\n",
       "      <td>-1.00</td>\n",
       "      <td>-1.00</td>\n",
       "      <td>5.2</td>\n",
       "    </tr>\n",
       "    <tr>\n",
       "      <th>2</th>\n",
       "      <td>2000002</td>\n",
       "      <td>Đặng Huỳnh Vĩnh An</td>\n",
       "      <td>13</td>\n",
       "      <td>12</td>\n",
       "      <td>2002</td>\n",
       "      <td>8.2</td>\n",
       "      <td>7.75</td>\n",
       "      <td>7.58</td>\n",
       "      <td>-1.00</td>\n",
       "      <td>7.00</td>\n",
       "      <td>7.25</td>\n",
       "      <td>8.50</td>\n",
       "      <td>-1.0</td>\n",
       "      <td>-1.00</td>\n",
       "      <td>-1.00</td>\n",
       "      <td>7.0</td>\n",
       "    </tr>\n",
       "    <tr>\n",
       "      <th>3</th>\n",
       "      <td>2000003</td>\n",
       "      <td>Lâm Nguyễn Mộng Thùy An</td>\n",
       "      <td>6</td>\n",
       "      <td>4</td>\n",
       "      <td>2001</td>\n",
       "      <td>6.8</td>\n",
       "      <td>6.75</td>\n",
       "      <td>6.92</td>\n",
       "      <td>-1.00</td>\n",
       "      <td>4.75</td>\n",
       "      <td>7.75</td>\n",
       "      <td>8.25</td>\n",
       "      <td>-1.0</td>\n",
       "      <td>-1.00</td>\n",
       "      <td>-1.00</td>\n",
       "      <td>6.0</td>\n",
       "    </tr>\n",
       "    <tr>\n",
       "      <th>4</th>\n",
       "      <td>2000004</td>\n",
       "      <td>Lê Tiêu Hoàng An</td>\n",
       "      <td>18</td>\n",
       "      <td>11</td>\n",
       "      <td>2002</td>\n",
       "      <td>7.8</td>\n",
       "      <td>6.25</td>\n",
       "      <td>-1.00</td>\n",
       "      <td>6.25</td>\n",
       "      <td>-1.00</td>\n",
       "      <td>-1.00</td>\n",
       "      <td>-1.00</td>\n",
       "      <td>7.0</td>\n",
       "      <td>5.50</td>\n",
       "      <td>6.25</td>\n",
       "      <td>5.6</td>\n",
       "    </tr>\n",
       "    <tr>\n",
       "      <th>5</th>\n",
       "      <td>2000005</td>\n",
       "      <td>Lư Thuận An</td>\n",
       "      <td>14</td>\n",
       "      <td>1</td>\n",
       "      <td>2002</td>\n",
       "      <td>6.4</td>\n",
       "      <td>6.50</td>\n",
       "      <td>-1.00</td>\n",
       "      <td>6.17</td>\n",
       "      <td>-1.00</td>\n",
       "      <td>-1.00</td>\n",
       "      <td>-1.00</td>\n",
       "      <td>5.5</td>\n",
       "      <td>6.75</td>\n",
       "      <td>6.25</td>\n",
       "      <td>8.2</td>\n",
       "    </tr>\n",
       "  </tbody>\n",
       "</table>\n",
       "</div>"
      ],
      "text/plain": [
       "        id                full name  dd  mm  yyyy  math  literature  \\\n",
       "1  2000001      Phạm Hoàng Hương Ái   4  11  2002   6.6        6.25   \n",
       "2  2000002       Đặng Huỳnh Vĩnh An  13  12  2002   8.2        7.75   \n",
       "3  2000003  Lâm Nguyễn Mộng Thùy An   6   4  2001   6.8        6.75   \n",
       "4  2000004         Lê Tiêu Hoàng An  18  11  2002   7.8        6.25   \n",
       "5  2000005              Lư Thuận An  14   1  2002   6.4        6.50   \n",
       "\n",
       "   social science  natural science  history  geography  civics  biology  \\\n",
       "1            6.67            -1.00     5.75       7.00    7.25     -1.0   \n",
       "2            7.58            -1.00     7.00       7.25    8.50     -1.0   \n",
       "3            6.92            -1.00     4.75       7.75    8.25     -1.0   \n",
       "4           -1.00             6.25    -1.00      -1.00   -1.00      7.0   \n",
       "5           -1.00             6.17    -1.00      -1.00   -1.00      5.5   \n",
       "\n",
       "   physics  chemistry  english  \n",
       "1    -1.00      -1.00      5.2  \n",
       "2    -1.00      -1.00      7.0  \n",
       "3    -1.00      -1.00      6.0  \n",
       "4     5.50       6.25      5.6  \n",
       "5     6.75       6.25      8.2  "
      ]
     },
     "execution_count": 34,
     "metadata": {},
     "output_type": "execute_result"
    }
   ],
   "source": [
    "df.head()"
   ]
  },
  {
   "cell_type": "code",
   "execution_count": 35,
   "id": "5ca9330f",
   "metadata": {},
   "outputs": [],
   "source": [
    "mean = []\n",
    "for j in range(len(df)):\n",
    "    count = 0\n",
    "    sum = 0\n",
    "    for i in df.iloc[j][5:]:\n",
    "        if i != -1:\n",
    "            count += 1\n",
    "            sum += i\n",
    "     \n",
    "    mean.append(round(sum/count,2))"
   ]
  },
  {
   "cell_type": "code",
   "execution_count": 36,
   "id": "c6cf4112",
   "metadata": {},
   "outputs": [
    {
     "data": {
      "text/plain": [
       "4"
      ]
     },
     "execution_count": 36,
     "metadata": {},
     "output_type": "execute_result"
    }
   ],
   "source": [
    "count "
   ]
  },
  {
   "cell_type": "code",
   "execution_count": 37,
   "id": "6e67679d",
   "metadata": {},
   "outputs": [
    {
     "data": {
      "text/plain": [
       "25.85"
      ]
     },
     "execution_count": 37,
     "metadata": {},
     "output_type": "execute_result"
    }
   ],
   "source": [
    "sum"
   ]
  },
  {
   "cell_type": "code",
   "execution_count": 38,
   "id": "1b55379f",
   "metadata": {},
   "outputs": [],
   "source": [
    "mean = np.array(mean)"
   ]
  },
  {
   "cell_type": "code",
   "execution_count": 39,
   "id": "11ee31a1",
   "metadata": {},
   "outputs": [],
   "source": [
    "df['mean'] = mean"
   ]
  },
  {
   "cell_type": "code",
   "execution_count": 40,
   "id": "111bd175",
   "metadata": {},
   "outputs": [
    {
     "data": {
      "text/html": [
       "<div>\n",
       "<style scoped>\n",
       "    .dataframe tbody tr th:only-of-type {\n",
       "        vertical-align: middle;\n",
       "    }\n",
       "\n",
       "    .dataframe tbody tr th {\n",
       "        vertical-align: top;\n",
       "    }\n",
       "\n",
       "    .dataframe thead th {\n",
       "        text-align: right;\n",
       "    }\n",
       "</style>\n",
       "<table border=\"1\" class=\"dataframe\">\n",
       "  <thead>\n",
       "    <tr style=\"text-align: right;\">\n",
       "      <th></th>\n",
       "      <th>id</th>\n",
       "      <th>full name</th>\n",
       "      <th>dd</th>\n",
       "      <th>mm</th>\n",
       "      <th>yyyy</th>\n",
       "      <th>math</th>\n",
       "      <th>literature</th>\n",
       "      <th>social science</th>\n",
       "      <th>natural science</th>\n",
       "      <th>history</th>\n",
       "      <th>geography</th>\n",
       "      <th>civics</th>\n",
       "      <th>biology</th>\n",
       "      <th>physics</th>\n",
       "      <th>chemistry</th>\n",
       "      <th>english</th>\n",
       "      <th>mean</th>\n",
       "    </tr>\n",
       "  </thead>\n",
       "  <tbody>\n",
       "    <tr>\n",
       "      <th>1</th>\n",
       "      <td>2000001</td>\n",
       "      <td>Phạm Hoàng Hương Ái</td>\n",
       "      <td>4</td>\n",
       "      <td>11</td>\n",
       "      <td>2002</td>\n",
       "      <td>6.6</td>\n",
       "      <td>6.25</td>\n",
       "      <td>6.67</td>\n",
       "      <td>-1.00</td>\n",
       "      <td>5.75</td>\n",
       "      <td>7.00</td>\n",
       "      <td>7.25</td>\n",
       "      <td>-1.0</td>\n",
       "      <td>-1.00</td>\n",
       "      <td>-1.00</td>\n",
       "      <td>5.2</td>\n",
       "      <td>6.39</td>\n",
       "    </tr>\n",
       "    <tr>\n",
       "      <th>2</th>\n",
       "      <td>2000002</td>\n",
       "      <td>Đặng Huỳnh Vĩnh An</td>\n",
       "      <td>13</td>\n",
       "      <td>12</td>\n",
       "      <td>2002</td>\n",
       "      <td>8.2</td>\n",
       "      <td>7.75</td>\n",
       "      <td>7.58</td>\n",
       "      <td>-1.00</td>\n",
       "      <td>7.00</td>\n",
       "      <td>7.25</td>\n",
       "      <td>8.50</td>\n",
       "      <td>-1.0</td>\n",
       "      <td>-1.00</td>\n",
       "      <td>-1.00</td>\n",
       "      <td>7.0</td>\n",
       "      <td>7.61</td>\n",
       "    </tr>\n",
       "    <tr>\n",
       "      <th>3</th>\n",
       "      <td>2000003</td>\n",
       "      <td>Lâm Nguyễn Mộng Thùy An</td>\n",
       "      <td>6</td>\n",
       "      <td>4</td>\n",
       "      <td>2001</td>\n",
       "      <td>6.8</td>\n",
       "      <td>6.75</td>\n",
       "      <td>6.92</td>\n",
       "      <td>-1.00</td>\n",
       "      <td>4.75</td>\n",
       "      <td>7.75</td>\n",
       "      <td>8.25</td>\n",
       "      <td>-1.0</td>\n",
       "      <td>-1.00</td>\n",
       "      <td>-1.00</td>\n",
       "      <td>6.0</td>\n",
       "      <td>6.75</td>\n",
       "    </tr>\n",
       "    <tr>\n",
       "      <th>4</th>\n",
       "      <td>2000004</td>\n",
       "      <td>Lê Tiêu Hoàng An</td>\n",
       "      <td>18</td>\n",
       "      <td>11</td>\n",
       "      <td>2002</td>\n",
       "      <td>7.8</td>\n",
       "      <td>6.25</td>\n",
       "      <td>-1.00</td>\n",
       "      <td>6.25</td>\n",
       "      <td>-1.00</td>\n",
       "      <td>-1.00</td>\n",
       "      <td>-1.00</td>\n",
       "      <td>7.0</td>\n",
       "      <td>5.50</td>\n",
       "      <td>6.25</td>\n",
       "      <td>5.6</td>\n",
       "      <td>6.38</td>\n",
       "    </tr>\n",
       "    <tr>\n",
       "      <th>5</th>\n",
       "      <td>2000005</td>\n",
       "      <td>Lư Thuận An</td>\n",
       "      <td>14</td>\n",
       "      <td>1</td>\n",
       "      <td>2002</td>\n",
       "      <td>6.4</td>\n",
       "      <td>6.50</td>\n",
       "      <td>-1.00</td>\n",
       "      <td>6.17</td>\n",
       "      <td>-1.00</td>\n",
       "      <td>-1.00</td>\n",
       "      <td>-1.00</td>\n",
       "      <td>5.5</td>\n",
       "      <td>6.75</td>\n",
       "      <td>6.25</td>\n",
       "      <td>8.2</td>\n",
       "      <td>6.54</td>\n",
       "    </tr>\n",
       "  </tbody>\n",
       "</table>\n",
       "</div>"
      ],
      "text/plain": [
       "        id                full name  dd  mm  yyyy  math  literature  \\\n",
       "1  2000001      Phạm Hoàng Hương Ái   4  11  2002   6.6        6.25   \n",
       "2  2000002       Đặng Huỳnh Vĩnh An  13  12  2002   8.2        7.75   \n",
       "3  2000003  Lâm Nguyễn Mộng Thùy An   6   4  2001   6.8        6.75   \n",
       "4  2000004         Lê Tiêu Hoàng An  18  11  2002   7.8        6.25   \n",
       "5  2000005              Lư Thuận An  14   1  2002   6.4        6.50   \n",
       "\n",
       "   social science  natural science  history  geography  civics  biology  \\\n",
       "1            6.67            -1.00     5.75       7.00    7.25     -1.0   \n",
       "2            7.58            -1.00     7.00       7.25    8.50     -1.0   \n",
       "3            6.92            -1.00     4.75       7.75    8.25     -1.0   \n",
       "4           -1.00             6.25    -1.00      -1.00   -1.00      7.0   \n",
       "5           -1.00             6.17    -1.00      -1.00   -1.00      5.5   \n",
       "\n",
       "   physics  chemistry  english  mean  \n",
       "1    -1.00      -1.00      5.2  6.39  \n",
       "2    -1.00      -1.00      7.0  7.61  \n",
       "3    -1.00      -1.00      6.0  6.75  \n",
       "4     5.50       6.25      5.6  6.38  \n",
       "5     6.75       6.25      8.2  6.54  "
      ]
     },
     "execution_count": 40,
     "metadata": {},
     "output_type": "execute_result"
    }
   ],
   "source": [
    "df.head()"
   ]
  },
  {
   "cell_type": "code",
   "execution_count": 41,
   "id": "68be9be3",
   "metadata": {},
   "outputs": [
    {
     "data": {
      "image/png": "[encoded data removed]",
      "text/plain": [
       "<Figure size 1008x576 with 4 Axes>"
      ]
     },
     "metadata": {
      "needs_background": "light"
     },
     "output_type": "display_data"
    }
   ],
   "source": [
    "# fig = plt.figure()\n",
    "fig,axes = plt.subplots(nrows = 2, ncols = 2, figsize=(14,8))\n",
    "\n",
    "axes[0,0].hist(df['mean'],bins=50)\n",
    "axes[0,0].set_xlabel('Mean score', fontsize = 12)\n",
    "axes[0,0].set_ylabel('Number of students', fontsize = 12)\n",
    "axes[0,0].set_title('Mean score distribution', fontsize = 12)\n",
    "\n",
    "axes[0,1].hist(df[df['math'] != -1]['math'],bins=50)\n",
    "axes[0,1].set_xlabel('Mean math score', fontsize = 12)\n",
    "axes[0,1].set_ylabel('Number of students', fontsize = 12)\n",
    "axes[0,1].set_title('Mean Math score distribution', fontsize = 12)\n",
    "\n",
    "axes[1,0].hist(df[df['literature'] != -1]['literature'],bins=50)\n",
    "axes[1,0].set_xlabel('Mean literature score', fontsize = 12)\n",
    "axes[1,0].set_ylabel('Number of students', fontsize = 12)\n",
    "axes[1,0].set_title('Mean literature score distribution', fontsize = 12)\n",
    "\n",
    "axes[1,1].hist(df[df['english'] != -1]['english'],bins=50)\n",
    "axes[1,1].set_xlabel('Mean English score', fontsize = 12)\n",
    "axes[1,1].set_ylabel('Number of students', fontsize = 12)\n",
    "axes[1,1].set_title('Mean English score distribution', fontsize = 12)\n",
    "\n",
    "plt.tight_layout()"
   ]
  },
  {
   "cell_type": "markdown",
   "id": "6558b291",
   "metadata": {},
   "source": [
    "## "
   ]
  },
  {
   "cell_type": "code",
   "execution_count": 42,
   "id": "ada08c0f",
   "metadata": {},
   "outputs": [
    {
     "data": {
      "image/png": "[encoded data removed]",
      "text/plain": [
       "<Figure size 1008x576 with 4 Axes>"
      ]
     },
     "metadata": {
      "needs_background": "light"
     },
     "output_type": "display_data"
    }
   ],
   "source": [
    "# fig = plt.figure()\n",
    "fig,axes = plt.subplots(nrows = 2, ncols = 2, figsize=(14,8))\n",
    "\n",
    "axes[0,0].hist(df[df['social science'] != -1]['social science'],bins=40)\n",
    "axes[0,0].set_xlabel('Mean score', fontsize = 12)\n",
    "axes[0,0].set_ylabel('Number of students', fontsize = 12)\n",
    "axes[0,0].set_title('Mean social science distribution', fontsize = 12)\n",
    "\n",
    "axes[0,1].hist(df[df['history'] != -1]['history'],bins=40)\n",
    "axes[0,1].set_xlabel('Mean score', fontsize = 12)\n",
    "axes[0,1].set_ylabel('Number of students', fontsize = 12)\n",
    "axes[0,1].set_title('Mean history score distribution', fontsize = 12)\n",
    "\n",
    "axes[1,0].hist(df[df['geography'] != -1]['geography'],bins=40)\n",
    "axes[1,0].set_xlabel('Mean score', fontsize = 12)\n",
    "axes[1,0].set_ylabel('Number of students', fontsize = 12)\n",
    "axes[1,0].set_title('Mean geography score distribution', fontsize = 12)\n",
    "\n",
    "axes[1,1].hist(df[df['civics'] != -1]['civics'],bins=40)\n",
    "axes[1,1].set_xlabel('Mean score', fontsize = 12)\n",
    "axes[1,1].set_ylabel('Number of students', fontsize = 12)\n",
    "axes[1,1].set_title('Mean civics score distribution', fontsize = 12)\n",
    "\n",
    "plt.tight_layout()"
   ]
  },
  {
   "cell_type": "code",
   "execution_count": 43,
   "id": "ee494993",
   "metadata": {},
   "outputs": [
    {
     "data": {
      "image/png": "[encoded data removed]",
      "text/plain": [
       "<Figure size 1008x576 with 4 Axes>"
      ]
     },
     "metadata": {
      "needs_background": "light"
     },
     "output_type": "display_data"
    }
   ],
   "source": [
    "# fig = plt.figure()\n",
    "fig,axes = plt.subplots(nrows = 2, ncols = 2, figsize=(14,8))\n",
    "\n",
    "axes[0,0].hist(df[df['natural science'] != -1]['natural science'],bins=40)\n",
    "axes[0,0].set_xlabel('Mean score', fontsize = 12)\n",
    "axes[0,0].set_ylabel('Number of students', fontsize = 12)\n",
    "axes[0,0].set_title('Mean natural science distribution', fontsize = 12)\n",
    "\n",
    "axes[0,1].hist(df[df['biology'] != -1]['biology'],bins=40)\n",
    "axes[0,1].set_xlabel('Mean score', fontsize = 12)\n",
    "axes[0,1].set_ylabel('Number of students', fontsize = 12)\n",
    "axes[0,1].set_title('Mean biology score distribution', fontsize = 12)\n",
    "\n",
    "axes[1,0].hist(df[df['chemistry'] != -1]['chemistry'],bins=40)\n",
    "axes[1,0].set_xlabel('Mean score', fontsize = 12)\n",
    "axes[1,0].set_ylabel('Number of students', fontsize = 12)\n",
    "axes[1,0].set_title('Mean chemistry score distribution', fontsize = 12)\n",
    "\n",
    "axes[1,1].hist(df[df['physics'] != -1]['physics'],bins=40)\n",
    "axes[1,1].set_xlabel('Mean score', fontsize = 12)\n",
    "axes[1,1].set_ylabel('Number of students', fontsize = 12)\n",
    "axes[1,1].set_title('Mean physics score distribution', fontsize = 12)\n",
    "\n",
    "plt.tight_layout()"
   ]
  },
  {
   "cell_type": "code",
   "execution_count": 44,
   "id": "3818e543",
   "metadata": {},
   "outputs": [
    {
     "data": {
      "image/png": "[encoded data removed]",
      "text/plain": [
       "<Figure size 1008x288 with 2 Axes>"
      ]
     },
     "metadata": {
      "needs_background": "light"
     },
     "output_type": "display_data"
    }
   ],
   "source": [
    "# fig = plt.figure()\n",
    "fig,axes = plt.subplots(nrows = 1, ncols = 2, figsize=(14,4))\n",
    "\n",
    "axes[0].hist(df[df['natural science'] != -1]['natural science'],bins=50)\n",
    "axes[0].set_xlabel('Mean score', fontsize = 12)\n",
    "axes[0].set_ylabel('Number of students', fontsize = 12)\n",
    "axes[0].set_title('Mean social science distribution', fontsize = 12)\n",
    "\n",
    "axes[1].hist(df[df['social science'] != -1]['social science'],bins=50)\n",
    "axes[1].set_xlabel('Mean score', fontsize = 12)\n",
    "axes[1].set_ylabel('Number of students', fontsize = 12)\n",
    "axes[1].set_title('Mean social science score distribution', fontsize = 12)\n",
    "\n",
    "plt.tight_layout()"
   ]
  },
  {
   "cell_type": "code",
   "execution_count": 45,
   "id": "1c46c370",
   "metadata": {},
   "outputs": [
    {
     "data": {
      "text/html": [
       "<div>\n",
       "<style scoped>\n",
       "    .dataframe tbody tr th:only-of-type {\n",
       "        vertical-align: middle;\n",
       "    }\n",
       "\n",
       "    .dataframe tbody tr th {\n",
       "        vertical-align: top;\n",
       "    }\n",
       "\n",
       "    .dataframe thead th {\n",
       "        text-align: right;\n",
       "    }\n",
       "</style>\n",
       "<table border=\"1\" class=\"dataframe\">\n",
       "  <thead>\n",
       "    <tr style=\"text-align: right;\">\n",
       "      <th></th>\n",
       "      <th>id</th>\n",
       "      <th>full name</th>\n",
       "      <th>dd</th>\n",
       "      <th>mm</th>\n",
       "      <th>yyyy</th>\n",
       "      <th>math</th>\n",
       "      <th>literature</th>\n",
       "      <th>social science</th>\n",
       "      <th>natural science</th>\n",
       "      <th>history</th>\n",
       "      <th>geography</th>\n",
       "      <th>civics</th>\n",
       "      <th>biology</th>\n",
       "      <th>physics</th>\n",
       "      <th>chemistry</th>\n",
       "      <th>english</th>\n",
       "      <th>mean</th>\n",
       "    </tr>\n",
       "  </thead>\n",
       "  <tbody>\n",
       "    <tr>\n",
       "      <th>1</th>\n",
       "      <td>2000001</td>\n",
       "      <td>Phạm Hoàng Hương Ái</td>\n",
       "      <td>4</td>\n",
       "      <td>11</td>\n",
       "      <td>2002</td>\n",
       "      <td>6.6</td>\n",
       "      <td>6.25</td>\n",
       "      <td>6.67</td>\n",
       "      <td>-1.00</td>\n",
       "      <td>5.75</td>\n",
       "      <td>7.00</td>\n",
       "      <td>7.25</td>\n",
       "      <td>-1.0</td>\n",
       "      <td>-1.00</td>\n",
       "      <td>-1.00</td>\n",
       "      <td>5.2</td>\n",
       "      <td>6.39</td>\n",
       "    </tr>\n",
       "    <tr>\n",
       "      <th>2</th>\n",
       "      <td>2000002</td>\n",
       "      <td>Đặng Huỳnh Vĩnh An</td>\n",
       "      <td>13</td>\n",
       "      <td>12</td>\n",
       "      <td>2002</td>\n",
       "      <td>8.2</td>\n",
       "      <td>7.75</td>\n",
       "      <td>7.58</td>\n",
       "      <td>-1.00</td>\n",
       "      <td>7.00</td>\n",
       "      <td>7.25</td>\n",
       "      <td>8.50</td>\n",
       "      <td>-1.0</td>\n",
       "      <td>-1.00</td>\n",
       "      <td>-1.00</td>\n",
       "      <td>7.0</td>\n",
       "      <td>7.61</td>\n",
       "    </tr>\n",
       "    <tr>\n",
       "      <th>3</th>\n",
       "      <td>2000003</td>\n",
       "      <td>Lâm Nguyễn Mộng Thùy An</td>\n",
       "      <td>6</td>\n",
       "      <td>4</td>\n",
       "      <td>2001</td>\n",
       "      <td>6.8</td>\n",
       "      <td>6.75</td>\n",
       "      <td>6.92</td>\n",
       "      <td>-1.00</td>\n",
       "      <td>4.75</td>\n",
       "      <td>7.75</td>\n",
       "      <td>8.25</td>\n",
       "      <td>-1.0</td>\n",
       "      <td>-1.00</td>\n",
       "      <td>-1.00</td>\n",
       "      <td>6.0</td>\n",
       "      <td>6.75</td>\n",
       "    </tr>\n",
       "    <tr>\n",
       "      <th>4</th>\n",
       "      <td>2000004</td>\n",
       "      <td>Lê Tiêu Hoàng An</td>\n",
       "      <td>18</td>\n",
       "      <td>11</td>\n",
       "      <td>2002</td>\n",
       "      <td>7.8</td>\n",
       "      <td>6.25</td>\n",
       "      <td>-1.00</td>\n",
       "      <td>6.25</td>\n",
       "      <td>-1.00</td>\n",
       "      <td>-1.00</td>\n",
       "      <td>-1.00</td>\n",
       "      <td>7.0</td>\n",
       "      <td>5.50</td>\n",
       "      <td>6.25</td>\n",
       "      <td>5.6</td>\n",
       "      <td>6.38</td>\n",
       "    </tr>\n",
       "    <tr>\n",
       "      <th>5</th>\n",
       "      <td>2000005</td>\n",
       "      <td>Lư Thuận An</td>\n",
       "      <td>14</td>\n",
       "      <td>1</td>\n",
       "      <td>2002</td>\n",
       "      <td>6.4</td>\n",
       "      <td>6.50</td>\n",
       "      <td>-1.00</td>\n",
       "      <td>6.17</td>\n",
       "      <td>-1.00</td>\n",
       "      <td>-1.00</td>\n",
       "      <td>-1.00</td>\n",
       "      <td>5.5</td>\n",
       "      <td>6.75</td>\n",
       "      <td>6.25</td>\n",
       "      <td>8.2</td>\n",
       "      <td>6.54</td>\n",
       "    </tr>\n",
       "  </tbody>\n",
       "</table>\n",
       "</div>"
      ],
      "text/plain": [
       "        id                full name  dd  mm  yyyy  math  literature  \\\n",
       "1  2000001      Phạm Hoàng Hương Ái   4  11  2002   6.6        6.25   \n",
       "2  2000002       Đặng Huỳnh Vĩnh An  13  12  2002   8.2        7.75   \n",
       "3  2000003  Lâm Nguyễn Mộng Thùy An   6   4  2001   6.8        6.75   \n",
       "4  2000004         Lê Tiêu Hoàng An  18  11  2002   7.8        6.25   \n",
       "5  2000005              Lư Thuận An  14   1  2002   6.4        6.50   \n",
       "\n",
       "   social science  natural science  history  geography  civics  biology  \\\n",
       "1            6.67            -1.00     5.75       7.00    7.25     -1.0   \n",
       "2            7.58            -1.00     7.00       7.25    8.50     -1.0   \n",
       "3            6.92            -1.00     4.75       7.75    8.25     -1.0   \n",
       "4           -1.00             6.25    -1.00      -1.00   -1.00      7.0   \n",
       "5           -1.00             6.17    -1.00      -1.00   -1.00      5.5   \n",
       "\n",
       "   physics  chemistry  english  mean  \n",
       "1    -1.00      -1.00      5.2  6.39  \n",
       "2    -1.00      -1.00      7.0  7.61  \n",
       "3    -1.00      -1.00      6.0  6.75  \n",
       "4     5.50       6.25      5.6  6.38  \n",
       "5     6.75       6.25      8.2  6.54  "
      ]
     },
     "execution_count": 45,
     "metadata": {},
     "output_type": "execute_result"
    }
   ],
   "source": [
    "df.head()"
   ]
  },
  {
   "cell_type": "code",
   "execution_count": 76,
   "id": "0ce181fe",
   "metadata": {
    "scrolled": false
   },
   "outputs": [
    {
     "data": {
      "text/plain": [
       "Text(0.5, 1.02, 'Relationship between age and performance')"
      ]
     },
     "execution_count": 76,
     "metadata": {},
     "output_type": "execute_result"
    },
    {
     "data": {
      "image/png": "[encoded data removed]",
      "text/plain": [
       "<Figure size 432x432 with 3 Axes>"
      ]
     },
     "metadata": {
      "needs_background": "light"
     },
     "output_type": "display_data"
    }
   ],
   "source": [
    "sns.jointplot(x=\"yyyy\", y=\"mean\", data=df,kind='reg',scatter_kws={'s':5})\n",
    "plt.suptitle(\"Relationship between age and performance\",y=1.02,fontsize=12)"
   ]
  },
  {
   "cell_type": "code",
   "execution_count": null,
   "id": "7df6afc1",
   "metadata": {},
   "outputs": [],
   "source": []
  }
 ],
 "metadata": {
  "kernelspec": {
   "display_name": "Python 3",
   "language": "python",
   "name": "python3"
  },
  "language_info": {
   "codemirror_mode": {
    "name": "ipython",
    "version": 3
   },
   "file_extension": ".py",
   "mimetype": "text/x-python",
   "name": "python",
   "nbconvert_exporter": "python",
   "pygments_lexer": "ipython3",
   "version": "3.8.8"
  }
 },
 "nbformat": 4,
 "nbformat_minor": 5
}
